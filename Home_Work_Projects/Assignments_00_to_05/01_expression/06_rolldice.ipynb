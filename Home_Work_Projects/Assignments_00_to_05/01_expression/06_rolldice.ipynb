{
  "nbformat": 4,
  "nbformat_minor": 0,
  "metadata": {
    "colab": {
      "provenance": [],
      "authorship_tag": "ABX9TyNrSDXuBSG4rh0aKSA3tRb3"
    },
    "kernelspec": {
      "name": "python3",
      "display_name": "Python 3"
    },
    "language_info": {
      "name": "python"
    }
  },
  "cells": [
    {
      "cell_type": "code",
      "execution_count": 3,
      "metadata": {
        "colab": {
          "base_uri": "https://localhost:8080/"
        },
        "id": "3J5mQxrM0VoD",
        "outputId": "c4ee4b1a-d239-46f9-eb9c-6a7a9f7f38b6"
      },
      "outputs": [
        {
          "output_type": "stream",
          "name": "stdout",
          "text": [
            "Dices have 6 each sides.\n",
            "First die : 2\n",
            "Second die : 1\n",
            "Total of two dice : 3\n"
          ]
        }
      ],
      "source": [
        "import random\n",
        "\n",
        "NUM_SIDES : int = 6\n",
        "\n",
        "def roll_dice():\n",
        "  die1 : int = random.randint(1 , NUM_SIDES)\n",
        "  die2 : int = random.randint(1 , NUM_SIDES)\n",
        "  total : int = die1 + die2\n",
        "\n",
        "  print(\"Dices have\" , NUM_SIDES , \"each sides.\")\n",
        "  print(\"First die :\" , die1)\n",
        "  print(\"Second die :\" , die2)\n",
        "  print(\"Total of two dice :\" , total)\n",
        "\n",
        "roll_dice()"
      ]
    },
    {
      "cell_type": "code",
      "source": [],
      "metadata": {
        "id": "kHYn_Pe-6eTG"
      },
      "execution_count": null,
      "outputs": []
    }
  ]
}